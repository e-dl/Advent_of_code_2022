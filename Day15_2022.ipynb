{
 "cells": [
  {
   "cell_type": "markdown",
   "metadata": {},
   "source": [
    "# Advent of Code 2022"
   ]
  },
  {
   "cell_type": "markdown",
   "metadata": {},
   "source": [
    "--- Day 15: Beacon Exclusion Zone ---"
   ]
  },
  {
   "cell_type": "code",
   "execution_count": 1,
   "metadata": {},
   "outputs": [],
   "source": [
    "#filename = \"input15.txt\"\n",
    "filename = \"test.txt\""
   ]
  },
  {
   "cell_type": "code",
   "execution_count": 2,
   "metadata": {},
   "outputs": [],
   "source": [
    "lines = open(filename).read().splitlines()"
   ]
  },
  {
   "cell_type": "markdown",
   "metadata": {},
   "source": [
    "--- Part One ---"
   ]
  },
  {
   "cell_type": "code",
   "execution_count": null,
   "metadata": {},
   "outputs": [],
   "source": [
    "# Each sensor know its own position and can determine the position of the beacon precisely \n",
    "# as measure by the Manhattan distance\n",
    "# sensors can only lock on to the one bacon of the closest sensor\n",
    "# Never a tie\n",
    "# Manhattan distance between two points {\\displaystyle (x_{1},y_{1})}(x_{1},y_{1}) and {\\displaystyle (x_{2},y_{2})}(x_{2},y_{2}) is {\\displaystyle \\left|x_{1}-x_{2}\\right|+\\left|y_{1}-y_{2}\\right|}{\\displaystyle \\left|x_{1}-x_{2}\\right|+\\left|y_{1}-y_{2}\\right|}. \n",
    "# That is, it is the sum of the absolute values of the differences in both coordinates"
   ]
  },
  {
   "cell_type": "code",
   "execution_count": 3,
   "metadata": {},
   "outputs": [],
   "source": [
    "import re"
   ]
  },
  {
   "cell_type": "code",
   "execution_count": 4,
   "metadata": {},
   "outputs": [],
   "source": [
    "coord = re.compile(\"[-]?\\d+\")"
   ]
  },
  {
   "cell_type": "code",
   "execution_count": 5,
   "metadata": {},
   "outputs": [],
   "source": [
    "def sb_distance(x1,y1,x2,y2):\n",
    "    distance = abs(int(x1) - int(x2)) + abs (int(y1)-int(y2))\n",
    "    return distance"
   ]
  },
  {
   "cell_type": "code",
   "execution_count": 84,
   "metadata": {},
   "outputs": [
    {
     "name": "stdout",
     "output_type": "stream",
     "text": [
      "  In the row where y=2000000, 6425133 positions cannot contain a beacon\n"
     ]
    }
   ],
   "source": [
    "c = []\n",
    "y_line  = 2000000 \n",
    "new_line = []\n",
    "bacon=  []\n",
    "for line in lines:\n",
    "    [x_s,y_s,x_b,y_b]=coord.findall(line)\n",
    "    distance = sb_distance(x_s,y_s,x_b,y_b)\n",
    "    \n",
    "    c = [int(x_s),int(y_s)]\n",
    "    offset = abs(y_line - c[1])\n",
    "    if y_line == int(y_b) :\n",
    "        bacon.append(int(x_b))\n",
    "    if offset <= distance:\n",
    "        new_line = new_line + [x for x in range (c[0]-distance+offset ,c[0]+distance-offset+1)]\n",
    "\n",
    "print (f\"  In the row where y={y_line}, {len(set(new_line).difference (set(bacon)))} positions cannot contain a beacon\")"
   ]
  },
  {
   "attachments": {},
   "cell_type": "markdown",
   "metadata": {},
   "source": [
    "--- Part Two ---"
   ]
  },
  {
   "cell_type": "code",
   "execution_count": 85,
   "metadata": {},
   "outputs": [],
   "source": [
    "# x and y can not be lower than 0 nor larger 4000000\n",
    "# find the tuning ferequency (x * 400000 + y)\n",
    "# one possible position"
   ]
  },
  {
   "cell_type": "code",
   "execution_count": 6,
   "metadata": {},
   "outputs": [],
   "source": [
    "def compare (x_coord, x, detached):\n",
    "    value = [0,0]\n",
    "    if x_coord == [None,None]:\n",
    "        value = x\n",
    "    elif (x_coord [0] <= x[0] <= x [1] <= x_coord[1]): \n",
    "        value = x_coord\n",
    "    elif (x [0] <= x_coord[0] <= x_coord [1] <= x[1]): \n",
    "        value = x\n",
    "    elif (x_coord [0] <= x[0] <= x_coord [1] <= x[1]): \n",
    "        value [0] = x_coord[0]\n",
    "        value [1] = x[1]\n",
    "    elif(x [0] <= x_coord[0] <= x [1] <= x_coord[1]): \n",
    "        value [0] = x[0]\n",
    "        value [1] = x_coord[1]\n",
    "    elif (x[0] <= x[1] <= x_coord [0] <= x_coord[1]):\n",
    "        if ((x[1]+1) == (x_coord[0])) | ((x[1]) == (x_coord[0])):\n",
    "            value[0] = x[0]\n",
    "            value[1] = x_coord[1]\n",
    "        else:\n",
    "            detached.append(x)\n",
    "            value = x_coord\n",
    "    elif (x_coord [0] <= x_coord[1] <=x[0] <= x[1]):\n",
    "        if ((x_coord[1] + 1) == (x[0])) | (x_coord[1]) == (x[0]):\n",
    "            value[0] = x_coord[0]\n",
    "            value[1] = x[1]\n",
    "        else:\n",
    "            detached.append(x)\n",
    "            value = x_coord\n",
    "\n",
    "    return value, detached"
   ]
  },
  {
   "cell_type": "code",
   "execution_count": 22,
   "metadata": {},
   "outputs": [],
   "source": [
    "def find_empty_set(y_line,y_line_max):\n",
    "    x_coord = [None,None]\n",
    "    detached = [] \n",
    "    \n",
    "    for line in lines:\n",
    "        [x_s,y_s,x_b,y_b]=coord.findall(line)\n",
    "        distance = sb_distance(x_s,y_s,x_b,y_b) \n",
    "        c = [int(x_s),int(y_s)]\n",
    "        offset = abs(y_line - c[1])\n",
    "        if offset <= distance:\n",
    "            start = max(c[0]-distance+offset,0)\n",
    "            end = min(c[0]+distance-offset,y_line_max)\n",
    "            x = [max(0,start),min(end,y_line_max)]\n",
    "            x_coord, detached = compare (x_coord, x, detached)\n",
    "\n",
    "            if x_coord == [0, y_line_max]:\n",
    "                detached = [] \n",
    "                break\n",
    "    \n",
    "    if detached !=[]:\n",
    "        det = []\n",
    "        while len(detached)>1:\n",
    "            detached[-1], det = compare (detached[0], detached[-1], det)\n",
    "            detached.pop(0) \n",
    "            if det!=[] : detached.append (det)\n",
    "        x_coord, det = compare (x_coord, detached[-1], det)\n",
    "        if x_coord == [0, y_line_max]:\n",
    "            detached = [] \n",
    "\n",
    "        if det !=[]:    \n",
    "            print (y_line, x_coord, det)\n",
    "            return False\n",
    "            \n",
    "    return False"
   ]
  },
  {
   "cell_type": "code",
   "execution_count": 24,
   "metadata": {},
   "outputs": [],
   "source": [
    "c = []\n",
    "#y_line_max  = 4_000_000 \n",
    "y_line_max  = 20  \n",
    "bacon=  []\n",
    "all_set = set(range(9,y_line_max+1))\n",
    "\n",
    "\n",
    "for y_line in range (9,int(y_line_max)+1):\n",
    "    \n",
    "   if find_empty_set(y_line,y_line_max):\n",
    "      break"
   ]
  },
  {
   "cell_type": "code",
   "execution_count": 99,
   "metadata": {},
   "outputs": [
    {
     "data": {
      "text/plain": [
       "{2443802338593}"
      ]
     },
     "execution_count": 99,
     "metadata": {},
     "output_type": "execute_result"
    }
   ],
   "source": [
    "{610950*y_line_max + y_line} "
   ]
  }
 ],
 "metadata": {
  "kernelspec": {
   "display_name": "Python 3",
   "language": "python",
   "name": "python3"
  },
  "language_info": {
   "codemirror_mode": {
    "name": "ipython",
    "version": 3
   },
   "file_extension": ".py",
   "mimetype": "text/x-python",
   "name": "python",
   "nbconvert_exporter": "python",
   "pygments_lexer": "ipython3",
   "version": "3.9.13 (tags/v3.9.13:6de2ca5, May 17 2022, 16:36:42) [MSC v.1929 64 bit (AMD64)]"
  },
  "orig_nbformat": 4,
  "vscode": {
   "interpreter": {
    "hash": "b485be553124f1940ea372ab7d55f0c305eeb57194aadcbdb061ad83357e26c0"
   }
  }
 },
 "nbformat": 4,
 "nbformat_minor": 2
}
