{
 "cells": [
  {
   "cell_type": "markdown",
   "metadata": {},
   "source": [
    "# Advent of Code 2022"
   ]
  },
  {
   "cell_type": "markdown",
   "metadata": {},
   "source": [
    "--- Day 10: Cathode-Ray Tube ---"
   ]
  },
  {
   "cell_type": "code",
   "execution_count": 18,
   "metadata": {},
   "outputs": [],
   "source": [
    "filename = \"input10.txt\"\n",
    "#filename = \"test.txt\""
   ]
  },
  {
   "cell_type": "code",
   "execution_count": 19,
   "metadata": {},
   "outputs": [],
   "source": [
    "lines = open(filename).read().splitlines()"
   ]
  },
  {
   "cell_type": "markdown",
   "metadata": {},
   "source": [
    "--- Part One ---"
   ]
  },
  {
   "cell_type": "code",
   "execution_count": 48,
   "metadata": {},
   "outputs": [],
   "source": [
    "# clock circuit\n",
    "# each tick is a cycle\n",
    "# CPU has single register starting with X = 1\n",
    "# two instructions:\n",
    "# addx V two cycles to complete - after two cycles the X register is increased of value V\n",
    "# noop takes one cycle to complete\n",
    "# consider the signal strenght at the 20th cycle and every 40 cycles after thata\n",
    "# Value = number of the cycle * X\n",
    "# Sum of all the values"
   ]
  },
  {
   "cell_type": "code",
   "execution_count": 20,
   "metadata": {},
   "outputs": [],
   "source": [
    "cycle = 0 \n",
    "X = 1\n",
    "cycle_sum =[]\n",
    "n = 0\n",
    "for line in lines:\n",
    "    if line == \"noop\":\n",
    "        required_cycles = 1\n",
    "        while required_cycles > 0:\n",
    "            cycle = cycle + 1\n",
    "            if (cycle == 20 + 40 * n ): \n",
    "                cycle_sum.append((cycle,X))\n",
    "                n = n + 1\n",
    "            required_cycles = required_cycles - 1\n",
    "    else:\n",
    "        value_to_add = int(line.split(' ')[1])\n",
    "        required_cycles = 2\n",
    "        while required_cycles > 0:\n",
    "            cycle = cycle + 1\n",
    "            if (cycle == 20 + 40 * n ):\n",
    "                cycle_sum.append((cycle,X))\n",
    "                n = n + 1\n",
    "            required_cycles = required_cycles - 1\n",
    "        X = X + value_to_add"
   ]
  },
  {
   "cell_type": "code",
   "execution_count": 21,
   "metadata": {},
   "outputs": [
    {
     "name": "stdout",
     "output_type": "stream",
     "text": [
      "Sum of these six signal strengths : 12540\n"
     ]
    }
   ],
   "source": [
    "sum = 0\n",
    "for i,j in cycle_sum:\n",
    "    sum = sum + i*j\n",
    "print (f\"Sum of these six signal strengths : {sum}\")"
   ]
  },
  {
   "cell_type": "markdown",
   "metadata": {},
   "source": [
    "--- Part Two ---"
   ]
  },
  {
   "cell_type": "code",
   "execution_count": 22,
   "metadata": {},
   "outputs": [],
   "source": [
    "# X register sets the horizontal position of the middle of the sprite, which is 3 pixels wide\n",
    "# 40 x 6 pixel wide\n",
    "# left to right [0,39]\n",
    "# CRT draw a single pixel during each cycle\n",
    "# 8 capital letters"
   ]
  },
  {
   "cell_type": "code",
   "execution_count": 54,
   "metadata": {},
   "outputs": [],
   "source": [
    "pixels_CRT = 40\n",
    "CRT = [['.']*pixels_CRT for _ in range(6)]\n",
    "sprite = ['.']*pixels_CRT \n",
    "sprite[0:3] = '#'*3\n",
    "cycle = 0\n",
    "X = 1\n",
    "for line in lines:\n",
    "    if line == \"noop\":\n",
    "        required_cycles = 1\n",
    "        while required_cycles > 0:\n",
    "            CRT[cycle//pixels_CRT][cycle%pixels_CRT] = sprite[cycle%pixels_CRT]\n",
    "            cycle = cycle + 1 \n",
    "            required_cycles = required_cycles - 1\n",
    "    else:\n",
    "        value_to_add = int(line.split(' ')[1])\n",
    "        required_cycles = 2\n",
    "        while required_cycles > 0:\n",
    "            CRT[cycle//pixels_CRT][cycle%pixels_CRT] = sprite[cycle%pixels_CRT]\n",
    "            cycle = cycle + 1\n",
    "            required_cycles = required_cycles - 1\n",
    "\n",
    "        X = X + value_to_add\n",
    "        sprite[:] = sprite = ['.']*pixels_CRT \n",
    "        if X > 0 :\n",
    "            sprite[X-1:X+2] = '#'*len(range(X-1,X+2))\n",
    "        else: \n",
    "            sprite[0:X+2] = '#'*len(range(0,X+2))\n",
    "        \n"
   ]
  },
  {
   "cell_type": "code",
   "execution_count": 55,
   "metadata": {},
   "outputs": [
    {
     "name": "stdout",
     "output_type": "stream",
     "text": [
      "####.####..##..####.####.#....#..#.####.\n",
      "#....#....#..#....#.#....#....#..#.#....\n",
      "###..###..#......#..###..#....####.###..\n",
      "#....#....#.....#...#....#....#..#.#....\n",
      "#....#....#..#.#....#....#....#..#.#....\n",
      "#....####..##..####.####.####.#..#.####.\n"
     ]
    }
   ],
   "source": [
    "for c in CRT:\n",
    "    print (\"\".join(c)) "
   ]
  }
 ],
 "metadata": {
  "kernelspec": {
   "display_name": "Python 3.9.13 64-bit (microsoft store)",
   "language": "python",
   "name": "python3"
  },
  "language_info": {
   "codemirror_mode": {
    "name": "ipython",
    "version": 3
   },
   "file_extension": ".py",
   "mimetype": "text/x-python",
   "name": "python",
   "nbconvert_exporter": "python",
   "pygments_lexer": "ipython3",
   "version": "3.9.13"
  },
  "orig_nbformat": 4,
  "vscode": {
   "interpreter": {
    "hash": "b485be553124f1940ea372ab7d55f0c305eeb57194aadcbdb061ad83357e26c0"
   }
  }
 },
 "nbformat": 4,
 "nbformat_minor": 2
}
