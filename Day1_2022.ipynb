{
 "cells": [
  {
   "cell_type": "markdown",
   "metadata": {},
   "source": [
    "# Advent of Code 2022"
   ]
  },
  {
   "cell_type": "markdown",
   "metadata": {},
   "source": [
    "--- Day 1: Calorie Counting ---"
   ]
  },
  {
   "cell_type": "code",
   "execution_count": 1,
   "metadata": {},
   "outputs": [],
   "source": [
    "filename = \"input.txt\""
   ]
  },
  {
   "cell_type": "markdown",
   "metadata": {},
   "source": [
    "--- Part One ---"
   ]
  },
  {
   "cell_type": "code",
   "execution_count": 2,
   "metadata": {},
   "outputs": [
    {
     "name": "stdout",
     "output_type": "stream",
     "text": [
      "Total calories of the Elf carrying the most Calories: 67027\n"
     ]
    }
   ],
   "source": [
    "lines = (l.rstrip() for l in open(filename))\n",
    "MaxCal = 0 \n",
    "sum = 0\n",
    "for x in lines:\n",
    "    if x == '':\n",
    "        if sum > MaxCal:\n",
    "            MaxCal = sum\n",
    "        sum = 0\n",
    "    else:\n",
    "        sum = int (x) + sum\n",
    "\n",
    "print (f\"Total calories of the Elf carrying the most Calories: {MaxCal}\")"
   ]
  },
  {
   "cell_type": "markdown",
   "metadata": {},
   "source": [
    "--- Part Two ---"
   ]
  },
  {
   "cell_type": "code",
   "execution_count": 3,
   "metadata": {},
   "outputs": [
    {
     "name": "stdout",
     "output_type": "stream",
     "text": [
      "Total Calories of the top three Elves carrying the most Calories 197291\n"
     ]
    }
   ],
   "source": [
    "lines = (l.rstrip() for l in open(filename))\n",
    "MaxCal = 0 \n",
    "sum = 0\n",
    "cal = []\n",
    "for x in lines:\n",
    "    if x == '':\n",
    "        cal.append(sum)\n",
    "        sum = 0\n",
    "    else:\n",
    "        sum = int (x) + sum\n",
    "cal.sort()\n",
    "sum_best_3 = cal[-3::]\n",
    "totcal = 0\n",
    "\n",
    "for n in sum_best_3:\n",
    "    totcal = n + totcal\n",
    "print (f\"Total Calories of the top three Elves carrying the most Calories {totcal}\")"
   ]
  }
 ],
 "metadata": {
  "kernelspec": {
   "display_name": "Python 3.9.9 64-bit",
   "language": "python",
   "name": "python3"
  },
  "language_info": {
   "codemirror_mode": {
    "name": "ipython",
    "version": 3
   },
   "file_extension": ".py",
   "mimetype": "text/x-python",
   "name": "python",
   "nbconvert_exporter": "python",
   "pygments_lexer": "ipython3",
   "version": "3.9.9"
  },
  "orig_nbformat": 4,
  "vscode": {
   "interpreter": {
    "hash": "b521422d7cdf0b10a1f85460340306323b5d4982662d2bef9b1ccf78c64a2379"
   }
  }
 },
 "nbformat": 4,
 "nbformat_minor": 2
}
