{
 "cells": [
  {
   "cell_type": "markdown",
   "metadata": {},
   "source": [
    "# Advent of Code 2022"
   ]
  },
  {
   "cell_type": "markdown",
   "metadata": {},
   "source": [
    "--- Day 5: Supply Stacks ---"
   ]
  },
  {
   "cell_type": "code",
   "execution_count": null,
   "metadata": {},
   "outputs": [],
   "source": [
    "# Initial stack of crates (1-3)\n",
    "# crates are cottom to top [Z], [N] in stack 1\n",
    "# arrangement procedure is given\n",
    "# move #of_crates from stack N to stack M - one at the time from top to bottom\n",
    "# Which crate will end up on top of each stack -- if is [C] [M] answer CM"
   ]
  },
  {
   "cell_type": "code",
   "execution_count": 207,
   "metadata": {},
   "outputs": [],
   "source": [
    "filename = \"input5.txt\""
   ]
  },
  {
   "cell_type": "code",
   "execution_count": 231,
   "metadata": {},
   "outputs": [],
   "source": [
    "lines = open(filename).read().splitlines() # "
   ]
  },
  {
   "cell_type": "code",
   "execution_count": 209,
   "metadata": {},
   "outputs": [],
   "source": [
    "import re"
   ]
  },
  {
   "cell_type": "code",
   "execution_count": 232,
   "metadata": {},
   "outputs": [],
   "source": [
    "p = re.compile(r'\\d+')\n",
    "moves = []\n",
    "for line in lines[10::]:\n",
    "    moves.append(p.findall(line))\n",
    "    # n_crate, initial, end"
   ]
  },
  {
   "cell_type": "code",
   "execution_count": 233,
   "metadata": {},
   "outputs": [],
   "source": [
    "initial_round = lines[0:9]"
   ]
  },
  {
   "cell_type": "code",
   "execution_count": 234,
   "metadata": {},
   "outputs": [
    {
     "name": "stdout",
     "output_type": "stream",
     "text": [
      "    [C]             [L]         [T]\n",
      "    [V] [R] [M]     [T]         [B]\n",
      "    [F] [G] [H] [Q] [Q]         [H]\n",
      "    [W] [L] [P] [V] [M] [V]     [F]\n",
      "    [P] [C] [W] [S] [Z] [B] [S] [P]\n",
      "[G] [R] [M] [B] [F] [J] [S] [Z] [D]\n",
      "[J] [L] [P] [F] [C] [H] [F] [J] [C]\n",
      "[Z] [Q] [F] [L] [G] [W] [H] [F] [M]\n",
      " 1   2   3   4   5   6   7   8   9 \n"
     ]
    }
   ],
   "source": [
    "for x in range(len(initial_round)):\n",
    "    print (lines[x])"
   ]
  },
  {
   "cell_type": "markdown",
   "metadata": {},
   "source": [
    "--- Part One ---"
   ]
  },
  {
   "cell_type": "code",
   "execution_count": 193,
   "metadata": {},
   "outputs": [],
   "source": [
    "import numpy as np"
   ]
  },
  {
   "cell_type": "code",
   "execution_count": 289,
   "metadata": {},
   "outputs": [
    {
     "name": "stdout",
     "output_type": "stream",
     "text": [
      "['ZJG', 'QLRPWFVC', 'FPMCLGR', 'LFBWPHM', 'GCFSVQ', 'WHJZMQTL', 'HFSBV', 'FJZS', 'MCDPFHBT']\n"
     ]
    }
   ],
   "source": [
    "n = 4\n",
    "table = []\n",
    "for x in lines[0:8]:\n",
    "    table.append([x[i:i+n].strip().strip('[').strip(']') for i in range(0, len(x), n)])\n",
    "table =  (np.array(table[::-1]).transpose())\n",
    "s = [''.join(row) for row in table]\n",
    "print (s)"
   ]
  },
  {
   "cell_type": "code",
   "execution_count": 287,
   "metadata": {},
   "outputs": [
    {
     "name": "stdout",
     "output_type": "stream",
     "text": [
      "WSFTMRHPP\n"
     ]
    }
   ],
   "source": [
    "s = [''.join(row) for row in table]\n",
    "\n",
    "for n_crate, initial, end in moves:\n",
    "    crates = s[int(initial)-1][-int(n_crate):]\n",
    "    s [int(end)-1] = ''.join([s[int(end)-1],crates[::-1]])\n",
    "    s [int(initial)-1] = s[int(initial)-1][:-int(n_crate)]\n",
    "    res = ''.join([sub[-1:] for sub in s])\n",
    "print (res)"
   ]
  },
  {
   "cell_type": "markdown",
   "metadata": {},
   "source": [
    "--- Part Two ---"
   ]
  },
  {
   "cell_type": "code",
   "execution_count": null,
   "metadata": {},
   "outputs": [],
   "source": [
    "# the ability to pick up and move multiple crates at once.\n",
    "# the action of moving three crates from stack 1 to stack 3 means that those three moved crates stay in the same order"
   ]
  },
  {
   "cell_type": "code",
   "execution_count": 288,
   "metadata": {},
   "outputs": [
    {
     "name": "stdout",
     "output_type": "stream",
     "text": [
      "GSLCMFBRP\n"
     ]
    }
   ],
   "source": [
    "s = [''.join(row) for row in table]\n",
    "\n",
    "for n_crate, initial, end in moves:\n",
    "    crates = s[int(initial)-1][-int(n_crate):]\n",
    "    s [int(end)-1] = ''.join([s[int(end)-1],crates])\n",
    "    s [int(initial)-1] = s[int(initial)-1][:-int(n_crate)]\n",
    "    res = ''.join([sub[-1:] for sub in s])\n",
    "print (res)"
   ]
  }
 ],
 "metadata": {
  "kernelspec": {
   "display_name": "Python 3.9.9 64-bit",
   "language": "python",
   "name": "python3"
  },
  "language_info": {
   "codemirror_mode": {
    "name": "ipython",
    "version": 3
   },
   "file_extension": ".py",
   "mimetype": "text/x-python",
   "name": "python",
   "nbconvert_exporter": "python",
   "pygments_lexer": "ipython3",
   "version": "3.9.9"
  },
  "orig_nbformat": 4,
  "vscode": {
   "interpreter": {
    "hash": "b521422d7cdf0b10a1f85460340306323b5d4982662d2bef9b1ccf78c64a2379"
   }
  }
 },
 "nbformat": 4,
 "nbformat_minor": 2
}
