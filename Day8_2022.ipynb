{
 "cells": [
  {
   "cell_type": "markdown",
   "metadata": {},
   "source": [
    "# Advent of Code 2022"
   ]
  },
  {
   "cell_type": "markdown",
   "metadata": {},
   "source": [
    "--- Day 8: Treetop Tree House ---"
   ]
  },
  {
   "cell_type": "code",
   "execution_count": 1,
   "metadata": {},
   "outputs": [],
   "source": [
    "# enough tree cover to keep the house hidden\n",
    "# count the number of trees that are visible otside the grid when looking along a row or a column\n",
    "# 30373\n",
    "# 25512\n",
    "# 65332\n",
    "# 33549\n",
    "# 35390\n",
    "# 0 - 9 = a tree height (smallest to tallest)\n",
    "# a tree is visible if all the other tree between it and one edge of the gri are shorter\n",
    "# no diagonals\n",
    "# all the trees at the edge are visible\n",
    "\n"
   ]
  },
  {
   "cell_type": "code",
   "execution_count": 18,
   "metadata": {},
   "outputs": [],
   "source": [
    "filename = \"input8.txt\"\n",
    "#filename = \"test.txt\"\n",
    "#filename = \"test2.txt\""
   ]
  },
  {
   "cell_type": "code",
   "execution_count": 19,
   "metadata": {},
   "outputs": [],
   "source": [
    "lines = open(filename).read().splitlines()"
   ]
  },
  {
   "cell_type": "code",
   "execution_count": 20,
   "metadata": {},
   "outputs": [],
   "source": [
    "import numpy as np"
   ]
  },
  {
   "cell_type": "markdown",
   "metadata": {},
   "source": [
    "--- Part One ---"
   ]
  },
  {
   "cell_type": "code",
   "execution_count": 25,
   "metadata": {},
   "outputs": [],
   "source": [
    "table = []\n",
    "n = 1 \n",
    "visible_trees = 0\n",
    "for line in lines:\n",
    "    table.append ([int(line[idx:idx + n]) for idx in range(0, len(line), n)])\n",
    "table = (np.array(table))\n",
    "visible_trees = table.shape [0] *2 + table.shape [1] *2 - 4"
   ]
  },
  {
   "cell_type": "code",
   "execution_count": 26,
   "metadata": {},
   "outputs": [],
   "source": [
    "coordinate = []\n",
    "value_list =[]\n",
    "for i, elem in enumerate(table[1:-1], start=1):\n",
    "    right = elem[0]\n",
    "    for j, value in enumerate(elem[1:-1], start=1):\n",
    "        if right < value:\n",
    "            coordinate.append([i,j])\n",
    "            value_list.append(value)\n",
    "        else:\n",
    "            continue\n",
    "        right = value\n",
    "    left = elem[::-1][0]\n",
    "    for j, value in enumerate(elem[::-1][1:-1], start=1):\n",
    "        if left < value:\n",
    "            coordinate.append([i,(table.shape[1]-1)-(j)])\n",
    "            value_list.append(value)\n",
    "        else:\n",
    "            continue\n",
    "        left = value\n",
    "\n",
    "for i, elem in enumerate(np.array(table).transpose()[1:-1], start=1):\n",
    "    right = elem[0]\n",
    "    for j, value in enumerate(elem[1:-1], start=1):\n",
    "        if right < value:\n",
    "            coordinate.append([j,i])\n",
    "            value_list.append(value)\n",
    "        else:\n",
    "            continue\n",
    "        right = value\n",
    "    left = elem[::-1][0]\n",
    "    for j, value in enumerate(elem[::-1][1:-1], start=1):\n",
    "        if left < value:\n",
    "            coordinate.append([(table.shape[0]-1)-(j),i])\n",
    "            value_list.append(value)\n",
    "        else:\n",
    "            continue\n",
    "        left = value"
   ]
  },
  {
   "cell_type": "code",
   "execution_count": 27,
   "metadata": {},
   "outputs": [
    {
     "name": "stdout",
     "output_type": "stream",
     "text": [
      "There are 1662 visible trees\n"
     ]
    }
   ],
   "source": [
    "print (f'There are {visible_trees + len(set(tuple(x) for x in coordinate))} visible trees')"
   ]
  },
  {
   "cell_type": "markdown",
   "metadata": {},
   "source": [
    "--- Part Two ---"
   ]
  },
  {
   "cell_type": "code",
   "execution_count": null,
   "metadata": {},
   "outputs": [],
   "source": [
    "# scenic score -- multiply together its viewing distance for each tree\n",
    "# since the edges have at least one 0 in their points, their scenic score is 0 and won't be included"
   ]
  },
  {
   "cell_type": "code",
   "execution_count": 21,
   "metadata": {},
   "outputs": [],
   "source": [
    "table = []\n",
    "n = 1 \n",
    "for line in lines:\n",
    "    table.append ([int(line[idx:idx + n]) for idx in range(0, len(line), n)])\n",
    "table = (np.array(table))"
   ]
  },
  {
   "cell_type": "code",
   "execution_count": 22,
   "metadata": {},
   "outputs": [],
   "source": [
    "dict_leftright = {}\n",
    "dict_updown = {}\n",
    "for i, elem in enumerate(table[1:-1], start=1):\n",
    "    for j, value in enumerate(elem[1:-1], start=1):\n",
    "        right_view = 1\n",
    "        for r in range (j+1,table.shape[0]-1):\n",
    "            right= elem[r]\n",
    "            if right >= value:\n",
    "                break\n",
    "            else : right_view = right_view + 1\n",
    "        left_view = 1\n",
    "        for l in range (j-1,0,-1): \n",
    "            left = elem[l]\n",
    "            if left >= value:\n",
    "                break\n",
    "            else : left_view = left_view + 1\n",
    "        dict_leftright[(i,j)] = left_view * right_view\n",
    "\n",
    "for i, elem in enumerate(np.array(table).transpose()[1:-1], start=1):\n",
    "    for j, value in enumerate(elem[1:-1], start=1):\n",
    "        bottom_view = 1\n",
    "        for r in range (j+1,table.shape[1]-1):\n",
    "            right= elem[r]\n",
    "            \n",
    "            if right >= value:\n",
    "                break\n",
    "            else : bottom_view = bottom_view + 1\n",
    "        top_view = 1\n",
    "        for l in range (j-1,0,-1): \n",
    "            left = elem[l]\n",
    "            if left >= value:\n",
    "                break\n",
    "            else : top_view = top_view + 1\n",
    "        dict_updown[(j,i)] = top_view * bottom_view"
   ]
  },
  {
   "cell_type": "code",
   "execution_count": 23,
   "metadata": {},
   "outputs": [],
   "source": [
    "dict = {}\n",
    "max_value = 0\n",
    "for key in dict_leftright.keys():\n",
    "    if key in dict_updown.keys():\n",
    "        dict [key] = dict_leftright[key] * dict_updown[key]"
   ]
  },
  {
   "cell_type": "code",
   "execution_count": 24,
   "metadata": {},
   "outputs": [
    {
     "name": "stdout",
     "output_type": "stream",
     "text": [
      " The highest scenic score possible for any tree is 537600\n"
     ]
    }
   ],
   "source": [
    "print (f' The highest scenic score possible for any tree is {max(dict.values())}')"
   ]
  }
 ],
 "metadata": {
  "kernelspec": {
   "display_name": "Python 3.9.13 64-bit (microsoft store)",
   "language": "python",
   "name": "python3"
  },
  "language_info": {
   "codemirror_mode": {
    "name": "ipython",
    "version": 3
   },
   "file_extension": ".py",
   "mimetype": "text/x-python",
   "name": "python",
   "nbconvert_exporter": "python",
   "pygments_lexer": "ipython3",
   "version": "3.9.13"
  },
  "orig_nbformat": 4,
  "vscode": {
   "interpreter": {
    "hash": "b485be553124f1940ea372ab7d55f0c305eeb57194aadcbdb061ad83357e26c0"
   }
  }
 },
 "nbformat": 4,
 "nbformat_minor": 2
}
