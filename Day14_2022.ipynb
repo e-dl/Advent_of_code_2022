{
 "cells": [
  {
   "cell_type": "markdown",
   "metadata": {},
   "source": [
    "# Advent of Code 2022"
   ]
  },
  {
   "cell_type": "markdown",
   "metadata": {},
   "source": [
    "--- Day 14: Regolith Reservoir ---"
   ]
  },
  {
   "cell_type": "code",
   "execution_count": 172,
   "metadata": {},
   "outputs": [],
   "source": [
    "filename = \"input14.txt\"\n",
    "#filename = \"test.txt\""
   ]
  },
  {
   "cell_type": "code",
   "execution_count": 173,
   "metadata": {},
   "outputs": [],
   "source": [
    "lines = open(filename).read().splitlines()"
   ]
  },
  {
   "attachments": {},
   "cell_type": "markdown",
   "metadata": {},
   "source": [
    "--- Part One ---"
   ]
  },
  {
   "cell_type": "code",
   "execution_count": 97,
   "metadata": {},
   "outputs": [],
   "source": [
    "# (x,y) form the shape of the path, \n",
    "# where x represent distance to the right and y distance down\n",
    "# each patch is a single line of text in the scan\n",
    "# after first point of each path, each point indicates the end of a H o V line\n",
    "# to be drawn from the previous point\n",
    "#\n",
    "# (498,4) -> (498,6) -> (496,6)\n",
    "# (503,4) -> (502,4) -> (502,9) -> (494,9)\n",
    "# This scan means that there are two paths of rock; \n",
    "# the first path consists of two straight lines, \n",
    "# and the second path consists of three straight lines. \n",
    "# The sand is pouring into the cave from point (500,0).\n",
    "\n",
    "# sand is produced one unit at the time and is not produced until it get to rest\n",
    "# enough to fill one tile of air, sand moves down\n",
    "# if the tile immediately below is blocked by rock or sand : sand move one down and left (diagonally)\n",
    "# if that tile is blocked, sand move diagonally step down and rigth.\n",
    "# if all the three destination are blocked, then it comes to rest and the next unit is created at (500,0)\n",
    "# How many units of sand come to rest before sand starts flowing into the abyss below?"
   ]
  },
  {
   "cell_type": "code",
   "execution_count": 4,
   "metadata": {},
   "outputs": [],
   "source": [
    "import re"
   ]
  },
  {
   "cell_type": "code",
   "execution_count": 98,
   "metadata": {},
   "outputs": [],
   "source": [
    "cord = re.compile('\\d+,\\d+')"
   ]
  },
  {
   "cell_type": "code",
   "execution_count": 150,
   "metadata": {},
   "outputs": [],
   "source": [
    "def find_direction (x1,y1,x2,y2):\n",
    "    if x1==x2:\n",
    "        l = [(x1,i) for i in range(min(y1,y2)+1,max(y1,y2))]\n",
    "    else:\n",
    "        l = [(i,y1) for i in range(min(x1,x2)+1,max(x1,x2))]\n",
    "    return l"
   ]
  },
  {
   "cell_type": "code",
   "execution_count": 180,
   "metadata": {},
   "outputs": [],
   "source": [
    "# Find the position of the rocks\n",
    "rocks = set()\n",
    "\n",
    "for line in lines: \n",
    "    coord = cord.findall (line)\n",
    "    coord_list = []\n",
    "    for elements in coord:\n",
    "        (x,y) = elements.split(',')\n",
    "        coord_list.append((int(x),int(y)))\n",
    "        rocks.update(coord_list)\n",
    "        for (x1,y1), (x2,y2) in zip(coord_list[0:-1],coord_list[1::]):\n",
    "            rocks.update(find_direction (x1,y1,x2,y2))\n"
   ]
  },
  {
   "cell_type": "code",
   "execution_count": 181,
   "metadata": {},
   "outputs": [],
   "source": [
    "def calculate_rocks_edge(rocks):\n",
    "    list_rock = list(rocks)\n",
    "    max_x = max(x for x,_ in list_rock) \n",
    "    min_x = min(x for x,_ in list_rock) \n",
    "    max_y = max(y for _, y in list_rock) \n",
    "    min_y = min(y for _, y in list_rock) \n",
    "    return (max_x, min_x, max_y, min_y)"
   ]
  },
  {
   "cell_type": "code",
   "execution_count": 191,
   "metadata": {},
   "outputs": [],
   "source": [
    "(max_x, min_x, max_y, min_y) = calculate_rocks_edge(rocks)\n",
    "#print (max_x, min_x, max_y, min_y)"
   ]
  },
  {
   "cell_type": "code",
   "execution_count": 183,
   "metadata": {},
   "outputs": [],
   "source": [
    "x0, y0 = (500,0)\n",
    "Sx, Sy = x0, y0\n",
    "u_sands = 0\n",
    "game_rocks = list(rocks).copy()"
   ]
  },
  {
   "cell_type": "code",
   "execution_count": 184,
   "metadata": {},
   "outputs": [
    {
     "name": "stdout",
     "output_type": "stream",
     "text": [
      "614 units of sand come to rest before sand starts flowing into the abyss\n"
     ]
    }
   ],
   "source": [
    "while True:\n",
    "    Sy = Sy + 1 \n",
    "    if (Sx, Sy) in game_rocks:\n",
    "        Sx_tmp = Sx - 1\n",
    "        if (Sx_tmp, Sy) in game_rocks:\n",
    "            Sx_tmp = Sx + 1\n",
    "            if (Sx_tmp, Sy) in game_rocks:\n",
    "               game_rocks.append((Sx, Sy-1))\n",
    "               u_sands = u_sands + 1\n",
    "               Sx, Sy = x0, y0\n",
    "            else:\n",
    "                Sx = Sx_tmp\n",
    "        else:\n",
    "            Sx = Sx_tmp\n",
    "    if Sy > max_y:\n",
    "        print (f\"{u_sands} units of sand come to rest before sand starts flowing into the abyss\")\n",
    "        break"
   ]
  },
  {
   "attachments": {},
   "cell_type": "markdown",
   "metadata": {},
   "source": [
    "--- Part Two ---"
   ]
  },
  {
   "cell_type": "code",
   "execution_count": 185,
   "metadata": {},
   "outputs": [],
   "source": [
    "# There is floor y_max + 2 below infinite\n",
    "# units of sand come to rest"
   ]
  },
  {
   "cell_type": "code",
   "execution_count": 189,
   "metadata": {},
   "outputs": [],
   "source": [
    "x0, y0 = (500,0)\n",
    "Sx, Sy = x0, y0\n",
    "u_sands = 0\n",
    "game_rocks = list(rocks).copy()"
   ]
  },
  {
   "cell_type": "code",
   "execution_count": 190,
   "metadata": {},
   "outputs": [
    {
     "name": "stdout",
     "output_type": "stream",
     "text": [
      "26170 units of sand come to rest\n"
     ]
    }
   ],
   "source": [
    "while True:\n",
    "\n",
    "    Sy = Sy + 1\n",
    "\n",
    "    if Sy == (max_y +2):\n",
    "        game_rocks.append((Sx, Sy-1))\n",
    "        u_sands = u_sands + 1\n",
    "        Sx, Sy = x0, y0 \n",
    "    elif (Sx, Sy) in game_rocks:\n",
    "        Sx_tmp = Sx - 1\n",
    "        if (Sx_tmp, Sy) in game_rocks:\n",
    "            Sx_tmp = Sx + 1\n",
    "            if (Sx_tmp, Sy) in game_rocks:\n",
    "               game_rocks.append((Sx, Sy-1))\n",
    "               u_sands = u_sands + 1\n",
    "               if (Sx, Sy-1) == (x0,y0):\n",
    "                    print (f\"{u_sands} units of sand come to rest\")\n",
    "                    break\n",
    "               Sx, Sy = x0, y0\n",
    "            else:\n",
    "                Sx = Sx_tmp\n",
    "        else:\n",
    "            Sx = Sx_tmp"
   ]
  }
 ],
 "metadata": {
  "kernelspec": {
   "display_name": "Python 3",
   "language": "python",
   "name": "python3"
  },
  "language_info": {
   "codemirror_mode": {
    "name": "ipython",
    "version": 3
   },
   "file_extension": ".py",
   "mimetype": "text/x-python",
   "name": "python",
   "nbconvert_exporter": "python",
   "pygments_lexer": "ipython3",
   "version": "3.9.13"
  },
  "orig_nbformat": 4,
  "vscode": {
   "interpreter": {
    "hash": "b485be553124f1940ea372ab7d55f0c305eeb57194aadcbdb061ad83357e26c0"
   }
  }
 },
 "nbformat": 4,
 "nbformat_minor": 2
}
