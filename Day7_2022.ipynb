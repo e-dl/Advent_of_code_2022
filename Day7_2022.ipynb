{
 "cells": [
  {
   "cell_type": "markdown",
   "metadata": {},
   "source": [
    "# Advent of Code 2022"
   ]
  },
  {
   "cell_type": "markdown",
   "metadata": {},
   "source": [
    "--- Day 7: No Space Left On Device ---"
   ]
  },
  {
   "cell_type": "code",
   "execution_count": 1,
   "metadata": {},
   "outputs": [],
   "source": [
    "# filesystem consists of a tree of files\n",
    "# outermost directory /\n",
    "# $ command you executed\n",
    "# cd change directory\n",
    "# cd x moves in one level -- moves in x\n",
    "# cd .. moves out one level \n",
    "# cd / go to outermost directory\n",
    "# ls means list - prints all of the files and directories in the current directory\n",
    "# 123 abc file nameds abc of 123\n",
    "# dir xyz directory xyz\n",
    "\n",
    "\n",
    "#- / (dir)\n",
    "#  - a (dir)\n",
    "#    - e (dir)\n",
    "#      - i (file, size=584)\n",
    "#    - f (file, size=29116)\n",
    "#    - g (file, size=2557)\n",
    "#    - h.lst (file, size=62596)\n",
    "#  - b.txt (file, size=14848514)\n",
    "#  - c.dat (file, size=8504156)\n",
    "#  - d (dir)\n",
    "#    - j (file, size=4060174)\n",
    "#    - d.log (file, size=8033020)\n",
    "#    - d.ext (file, size=5626152)\n",
    "#    - k (file, size=7214296)\n",
    "\n",
    "\n",
    "# determine total size of each directory\n",
    "# all directories with a total size at most of 100000 \n",
    "# sum all their values"
   ]
  },
  {
   "cell_type": "code",
   "execution_count": 1,
   "metadata": {},
   "outputs": [],
   "source": [
    "filename = \"input7.txt\""
   ]
  },
  {
   "cell_type": "code",
   "execution_count": 2,
   "metadata": {},
   "outputs": [],
   "source": [
    "lines = open(filename).read().splitlines()"
   ]
  },
  {
   "cell_type": "code",
   "execution_count": 3,
   "metadata": {},
   "outputs": [],
   "source": [
    "import re"
   ]
  },
  {
   "cell_type": "markdown",
   "metadata": {},
   "source": [
    "--- Part One ---"
   ]
  },
  {
   "cell_type": "code",
   "execution_count": 4,
   "metadata": {},
   "outputs": [],
   "source": [
    "file = re.compile(r'\\d+') "
   ]
  },
  {
   "cell_type": "code",
   "execution_count": 9,
   "metadata": {},
   "outputs": [
    {
     "name": "stdout",
     "output_type": "stream",
     "text": [
      "The sum of all the directories with a total size of at most 10000 is 1491614\n"
     ]
    }
   ],
   "source": [
    "path = []\n",
    "tree = dict()\n",
    "\n",
    "for line in lines:\n",
    "    if line == '$ cd ..':\n",
    "        path.pop(-1)\n",
    "        continue\n",
    "    \n",
    "    elif line.startswith('$ cd'):\n",
    "        path.append( line.split(' ')[2])\n",
    "        \n",
    "        if ''.join(path) not in tree.keys():\n",
    "            tree.update({ ''.join(path): 0 })\n",
    "        \n",
    "        continue\n",
    "    \n",
    "    elif file.findall (line)!= []:\n",
    "        size = line.split(' ')[0]\n",
    "        folder_list = []\n",
    "        \n",
    "        for direc in path:\n",
    "            folder_list.append(direc)\n",
    "            tree.update({ ''.join(folder_list): tree[''.join(folder_list)] + int(size) })\n",
    "\n",
    "            \n",
    "        continue\n",
    "\n",
    "print(f'The sum of all the directories with a total size of at most 10000 is {sum([i for i in tree.values() if i < 100000])}')"
   ]
  },
  {
   "cell_type": "markdown",
   "metadata": {},
   "source": [
    "--- Part Two ---"
   ]
  },
  {
   "cell_type": "code",
   "execution_count": null,
   "metadata": {},
   "outputs": [],
   "source": [
    "# Total disk space 70000000\n",
    "# to run update 30000000\n",
    "# find one directory that can be delted and free up enogh space to run the update"
   ]
  },
  {
   "cell_type": "code",
   "execution_count": 6,
   "metadata": {},
   "outputs": [],
   "source": [
    "path = []\n",
    "tree = dict()\n",
    "\n",
    "for line in lines:\n",
    "    if line == '$ cd ..':\n",
    "        path.pop(-1)\n",
    "        continue\n",
    "    \n",
    "    elif line.startswith('$ cd'):\n",
    "        path.append( line.split(' ')[2])\n",
    "        \n",
    "        if ''.join(path) not in tree.keys():\n",
    "            tree.update({ ''.join(path): 0 })\n",
    "        \n",
    "        continue\n",
    "    \n",
    "    elif file.findall (line)!= []:\n",
    "        size = line.split(' ')[0]\n",
    "        folder_list = []\n",
    "        \n",
    "        for direc in path:\n",
    "            folder_list.append(direc)\n",
    "            tree.update({ ''.join(folder_list): tree[''.join(folder_list)] + int(size) })\n",
    "\n",
    "            \n",
    "        continue\n"
   ]
  },
  {
   "cell_type": "code",
   "execution_count": 7,
   "metadata": {},
   "outputs": [],
   "source": [
    "used = 70000000 - tree['/']\n",
    "to_clean = 30000000 - used\n",
    "#print (used,to_clean)"
   ]
  },
  {
   "cell_type": "code",
   "execution_count": 8,
   "metadata": {},
   "outputs": [
    {
     "name": "stdout",
     "output_type": "stream",
     "text": [
      "The smallest directory that, if deleted, would free up enough space on the filesystem to run the update is 6400111\n"
     ]
    }
   ],
   "source": [
    "print (f'The smallest directory that, if deleted, would free up enough space on the filesystem to run the update is {min([x for x in tree.values() if x >= to_clean])}')"
   ]
  },
  {
   "cell_type": "code",
   "execution_count": null,
   "metadata": {},
   "outputs": [],
   "source": []
  }
 ],
 "metadata": {
  "kernelspec": {
   "display_name": "Python 3.9.13 64-bit (microsoft store)",
   "language": "python",
   "name": "python3"
  },
  "language_info": {
   "codemirror_mode": {
    "name": "ipython",
    "version": 3
   },
   "file_extension": ".py",
   "mimetype": "text/x-python",
   "name": "python",
   "nbconvert_exporter": "python",
   "pygments_lexer": "ipython3",
   "version": "3.9.13"
  },
  "orig_nbformat": 4,
  "vscode": {
   "interpreter": {
    "hash": "b485be553124f1940ea372ab7d55f0c305eeb57194aadcbdb061ad83357e26c0"
   }
  }
 },
 "nbformat": 4,
 "nbformat_minor": 2
}
