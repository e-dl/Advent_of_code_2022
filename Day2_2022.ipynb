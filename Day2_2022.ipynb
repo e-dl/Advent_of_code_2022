{
 "cells": [
  {
   "cell_type": "markdown",
   "metadata": {},
   "source": [
    "# Advent of Code 2022"
   ]
  },
  {
   "cell_type": "markdown",
   "metadata": {},
   "source": [
    "--- Day 2: Rock Paper Scissors ---"
   ]
  },
  {
   "cell_type": "code",
   "execution_count": null,
   "metadata": {},
   "outputs": [],
   "source": [
    "# First column : opponent\n",
    "# A Rock\n",
    "# B Paper\n",
    "# C Scissors\n",
    "\n",
    "# Second Column : what you should play in response\n",
    "# X Rock\n",
    "# Y Paper\n",
    "# Z scissors\n",
    "\n",
    "# winner = Highest score but you can't always win\n",
    "# Total score is the sum of your scores for each round\n",
    "\n",
    "# Score of each round is the score of the shape you selected\n",
    "# 1 X\n",
    "# 2 Y\n",
    "# 3 Z\n",
    "# + the outcome of the round\n",
    "# 0 loss\n",
    "# 3 draw\n",
    "# 6 win\n",
    "\n",
    "# Strategy guide:\n",
    "\n",
    "# A -> Y (win) 2 + 6 = 8 \n",
    "# B -> X (lost) 1 + 0 = 1 \n",
    "# C -> Z (draw) 3 + 3 = 6\n",
    "\n",
    "# Winning matches| Draw |Losing Matches\n",
    "# A : Y | X | Z\n",
    "# B : Z | Y | X\n",
    "# C : X | Z | Y"
   ]
  },
  {
   "cell_type": "code",
   "execution_count": 27,
   "metadata": {},
   "outputs": [],
   "source": [
    "filename = \"input2.txt\""
   ]
  },
  {
   "cell_type": "code",
   "execution_count": 28,
   "metadata": {},
   "outputs": [],
   "source": [
    "lines = open(filename).read().splitlines()"
   ]
  },
  {
   "cell_type": "code",
   "execution_count": 29,
   "metadata": {},
   "outputs": [],
   "source": [
    "col1 = []\n",
    "col2 = []\n",
    "for line in lines:\n",
    "    col1.append(line[0:1])\n",
    "    col2.append(line[2:3])    "
   ]
  },
  {
   "cell_type": "markdown",
   "metadata": {},
   "source": [
    "--- Part One ---"
   ]
  },
  {
   "cell_type": "code",
   "execution_count": 18,
   "metadata": {},
   "outputs": [],
   "source": [
    "mypartialscore = []\n",
    "myscore = []\n",
    "for elfplay, myplay in zip(col1,col2):\n",
    "    if myplay =='X':\n",
    "        mypartialscore = 1\n",
    "        if elfplay == 'A':\n",
    "            result = 3\n",
    "        elif elfplay ==  'B':\n",
    "            result = 0    \n",
    "        elif elfplay == 'C':\n",
    "            result = 6\n",
    "    elif myplay == 'Y':\n",
    "        mypartialscore = 2\n",
    "        if elfplay == 'A':\n",
    "            result = 6\n",
    "        elif elfplay ==  'B':\n",
    "            result = 3    \n",
    "        elif elfplay == 'C':\n",
    "            result = 0\n",
    "    elif myplay == 'Z':\n",
    "        mypartialscore =3\n",
    "        if elfplay == 'A':\n",
    "            result = 0\n",
    "        elif elfplay ==  'B':\n",
    "            result = 6    \n",
    "        elif elfplay == 'C':\n",
    "            result = 3\n",
    "    myscore.append(mypartialscore+ result)"
   ]
  },
  {
   "cell_type": "code",
   "execution_count": 19,
   "metadata": {},
   "outputs": [
    {
     "name": "stdout",
     "output_type": "stream",
     "text": [
      "Total Score 12794\n"
     ]
    }
   ],
   "source": [
    "total = 0 \n",
    "for score in myscore:\n",
    "    total = total + score\n",
    "\n",
    "print (f\"Total Score {total}\")"
   ]
  },
  {
   "cell_type": "markdown",
   "metadata": {},
   "source": [
    "--- Part Two ---"
   ]
  },
  {
   "cell_type": "code",
   "execution_count": null,
   "metadata": {},
   "outputs": [],
   "source": [
    "# # First column : opponent\n",
    "# A Rock\n",
    "# B Paper\n",
    "# C Scissors\n",
    "\n",
    "# Score of each round is the score of the shape you selected\n",
    "# 1 A\n",
    "# 2 B\n",
    "# 3 C\n",
    "# 2nd column\n",
    "# X means you lose - > 0 p\n",
    "# Y means you end in a draw -> 3 p\n",
    "# Z means you win -> 6 p\n",
    "# Winning matches| Draw |Losing Matches\n",
    "# A : 2 | 1 | 3\n",
    "# B : 3 | 2 | 1\n",
    "# C : 1 | 3 | 2"
   ]
  },
  {
   "cell_type": "code",
   "execution_count": 32,
   "metadata": {},
   "outputs": [],
   "source": [
    "myscore = []\n",
    "\n",
    "for elfplay, resultplay in zip(col1,col2):\n",
    "    if resultplay == 'X':\n",
    "        # need to lose\n",
    "        result = 0\n",
    "        if elfplay == 'A':\n",
    "            mypartialscore = 3\n",
    "        elif elfplay ==  'B':\n",
    "            mypartialscore = 1   \n",
    "        elif elfplay == 'C':\n",
    "            mypartialscore = 2\n",
    "    elif resultplay == 'Y':\n",
    "        # need to draw\n",
    "        result = 3\n",
    "        if elfplay == 'A':\n",
    "            mypartialscore = 1\n",
    "        elif elfplay ==  'B':\n",
    "            mypartialscore = 2   \n",
    "        elif elfplay == 'C':\n",
    "            mypartialscore = 3\n",
    "    elif resultplay == 'Z':\n",
    "        # nedd to win   \n",
    "        result = 6  \n",
    "        if elfplay == 'A':\n",
    "            mypartialscore = 2\n",
    "        elif elfplay ==  'B':\n",
    "            mypartialscore = 3   \n",
    "        elif elfplay == 'C':\n",
    "            mypartialscore = 1\n",
    "    \n",
    "    myscore.append (result+mypartialscore)\n",
    "          "
   ]
  },
  {
   "cell_type": "code",
   "execution_count": 33,
   "metadata": {},
   "outputs": [
    {
     "name": "stdout",
     "output_type": "stream",
     "text": [
      "Total Score 14979\n"
     ]
    }
   ],
   "source": [
    "total = 0 \n",
    "for score in myscore:\n",
    "    total = total + score\n",
    "\n",
    "print (f\"Total Score {total}\")"
   ]
  }
 ],
 "metadata": {
  "kernelspec": {
   "display_name": "Python 3.9.9 64-bit",
   "language": "python",
   "name": "python3"
  },
  "language_info": {
   "codemirror_mode": {
    "name": "ipython",
    "version": 3
   },
   "file_extension": ".py",
   "mimetype": "text/x-python",
   "name": "python",
   "nbconvert_exporter": "python",
   "pygments_lexer": "ipython3",
   "version": "3.9.9"
  },
  "orig_nbformat": 4,
  "vscode": {
   "interpreter": {
    "hash": "b521422d7cdf0b10a1f85460340306323b5d4982662d2bef9b1ccf78c64a2379"
   }
  }
 },
 "nbformat": 4,
 "nbformat_minor": 2
}
