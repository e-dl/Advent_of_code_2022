{
 "cells": [
  {
   "cell_type": "markdown",
   "metadata": {},
   "source": [
    "# Advent of Code 2022"
   ]
  },
  {
   "cell_type": "markdown",
   "metadata": {},
   "source": [
    "--- Day 4: Camp Cleanup ---"
   ]
  },
  {
   "cell_type": "code",
   "execution_count": null,
   "metadata": {},
   "outputs": [],
   "source": [
    "# unique ID + section ID\n",
    "# assignemnt overlap\n",
    "# list of section assignment for each pair\n",
    "# %d-%d,%d-%d\n",
    "# some pairs fully contains others (2-8 fully contains 3-7)\n",
    "# How many pairs fully contains the other?"
   ]
  },
  {
   "cell_type": "code",
   "execution_count": 1,
   "metadata": {},
   "outputs": [],
   "source": [
    "filename = \"input4.txt\""
   ]
  },
  {
   "cell_type": "code",
   "execution_count": 3,
   "metadata": {},
   "outputs": [],
   "source": [
    "lines = open(filename).read().splitlines() # "
   ]
  },
  {
   "cell_type": "markdown",
   "metadata": {},
   "source": [
    "--- Part One ---"
   ]
  },
  {
   "cell_type": "code",
   "execution_count": 9,
   "metadata": {},
   "outputs": [],
   "source": [
    "import re"
   ]
  },
  {
   "cell_type": "code",
   "execution_count": 21,
   "metadata": {},
   "outputs": [
    {
     "name": "stdout",
     "output_type": "stream",
     "text": [
      "532\n"
     ]
    }
   ],
   "source": [
    "count = 0\n",
    "p = re.compile(r'\\d+')\n",
    "for line in lines:\n",
    "    numbers = p.findall(line)\n",
    "    range_1 = set(range(int(numbers[0]),int(numbers[1])+1)) \n",
    "    range_2= set(range(int(numbers[2]),int(numbers[3])+1)) \n",
    "    if range_1.issubset(range_2):\n",
    "        count = count + 1\n",
    "    elif range_1.issuperset(range_2):\n",
    "        count = count + 1\n",
    "print (count)"
   ]
  },
  {
   "cell_type": "markdown",
   "metadata": {},
   "source": [
    "--- Part Two ---"
   ]
  },
  {
   "cell_type": "code",
   "execution_count": 25,
   "metadata": {},
   "outputs": [
    {
     "name": "stdout",
     "output_type": "stream",
     "text": [
      "854\n"
     ]
    }
   ],
   "source": [
    "count2 = 0\n",
    "p = re.compile(r'\\d+')\n",
    "for line in lines:\n",
    "    numbers = p.findall(line)\n",
    "    range_1 = set(range(int(numbers[0]),int(numbers[1])+1)) \n",
    "    range_2= set(range(int(numbers[2]),int(numbers[3])+1)) \n",
    "    if range_1.issubset(range_2):\n",
    "        count2 = count2 + 1\n",
    "    elif range_1.issuperset(range_2):\n",
    "        count2 = count2 + 1\n",
    "    elif not range_1.isdisjoint(range_2):\n",
    "        count2 = count2 + 1\n",
    "print (count2)"
   ]
  }
 ],
 "metadata": {
  "kernelspec": {
   "display_name": "Python 3.9.9 64-bit",
   "language": "python",
   "name": "python3"
  },
  "language_info": {
   "codemirror_mode": {
    "name": "ipython",
    "version": 3
   },
   "file_extension": ".py",
   "mimetype": "text/x-python",
   "name": "python",
   "nbconvert_exporter": "python",
   "pygments_lexer": "ipython3",
   "version": "3.9.9"
  },
  "orig_nbformat": 4,
  "vscode": {
   "interpreter": {
    "hash": "b521422d7cdf0b10a1f85460340306323b5d4982662d2bef9b1ccf78c64a2379"
   }
  }
 },
 "nbformat": 4,
 "nbformat_minor": 2
}
