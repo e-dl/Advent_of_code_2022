{
 "cells": [
  {
   "cell_type": "markdown",
   "metadata": {},
   "source": [
    "# Advent of Code 2022"
   ]
  },
  {
   "cell_type": "markdown",
   "metadata": {},
   "source": [
    "--- Day 6: Tuning Trouble ---"
   ]
  },
  {
   "cell_type": "code",
   "execution_count": null,
   "metadata": {},
   "outputs": [],
   "source": [
    "# Device sends a datastream buffer\n",
    "# 1. Identify the first position where the 4 most recently received characters were all different\n",
    "# 2. Report the 4 characters marker\n",
    "# mjqjpqmgbljsphdztnvjfqwrcgsmlb \n",
    "# mjqj is not a marker (repetition)\n",
    "# jpqm is the marker (positions 4-7)"
   ]
  },
  {
   "cell_type": "code",
   "execution_count": 27,
   "metadata": {},
   "outputs": [],
   "source": [
    "filename = \"input6.txt\""
   ]
  },
  {
   "cell_type": "code",
   "execution_count": 28,
   "metadata": {},
   "outputs": [],
   "source": [
    "datastream = open(filename).read() # "
   ]
  },
  {
   "cell_type": "markdown",
   "metadata": {},
   "source": [
    "--- Part One ---"
   ]
  },
  {
   "cell_type": "code",
   "execution_count": null,
   "metadata": {},
   "outputs": [],
   "source": [
    "marker = datastream[0:4] \n",
    "for element in datastream[4:]:\n",
    "    marker = ''.join([marker[1:],element])\n",
    "    if len(set (marker)) == 4:\n",
    "        print(set (marker))\n",
    "        print(f\"the sequence starts : {datastream.rfind(marker)} and ends {datastream.rfind(marker)+4} \")\n",
    "        break   "
   ]
  },
  {
   "cell_type": "markdown",
   "metadata": {},
   "source": [
    "--- Part Two ---"
   ]
  },
  {
   "cell_type": "code",
   "execution_count": null,
   "metadata": {},
   "outputs": [],
   "source": [
    "# start of message marker : 14 distinct characters"
   ]
  },
  {
   "cell_type": "code",
   "execution_count": null,
   "metadata": {},
   "outputs": [],
   "source": [
    "start = 14\n",
    "marker = datastream[0:start] \n",
    "for element in datastream[start:]:\n",
    "    marker = ''.join([marker[1:],element])\n",
    "    if len(set (marker)) == start:\n",
    "        print(set (marker))\n",
    "        print(f\"the sequence starts : {datastream.rfind(marker)} and ends {datastream.rfind(marker)+start} \")\n",
    "        break   "
   ]
  }
 ],
 "metadata": {
  "kernelspec": {
   "display_name": "Python 3.9.9 64-bit",
   "language": "python",
   "name": "python3"
  },
  "language_info": {
   "codemirror_mode": {
    "name": "ipython",
    "version": 3
   },
   "file_extension": ".py",
   "mimetype": "text/x-python",
   "name": "python",
   "nbconvert_exporter": "python",
   "pygments_lexer": "ipython3",
   "version": "3.9.9"
  },
  "orig_nbformat": 4,
  "vscode": {
   "interpreter": {
    "hash": "b521422d7cdf0b10a1f85460340306323b5d4982662d2bef9b1ccf78c64a2379"
   }
  }
 },
 "nbformat": 4,
 "nbformat_minor": 2
}
