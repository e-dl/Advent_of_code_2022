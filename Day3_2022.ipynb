{
 "cells": [
  {
   "cell_type": "markdown",
   "metadata": {},
   "source": [
    "# Advent of Code 2022"
   ]
  },
  {
   "cell_type": "markdown",
   "metadata": {},
   "source": [
    "--- Day 3: Rucksack Reorganization ---"
   ]
  },
  {
   "cell_type": "code",
   "execution_count": null,
   "metadata": {},
   "outputs": [],
   "source": [
    "# 2 large compartments\n",
    "# All item of a given type needs to go in the exact compartment\n",
    "# input all the items in the rucksack\n",
    "# every item identified by lowercase or uppercase letter (different types)\n",
    "# list of items characters all on a signle line for each rucksack\n",
    "# each rucksack has the same number of items in each compartment\n",
    "# prioritize : lower case 1-26 and upper case 27-52\n",
    "\n",
    "# 1. Split line in half\n",
    "# 2. find item common in both the sequences\n",
    "# 3. according to the common value give priority value\n",
    "# 4. Sum"
   ]
  },
  {
   "cell_type": "code",
   "execution_count": 3,
   "metadata": {},
   "outputs": [],
   "source": [
    "filename = \"input3.txt\""
   ]
  },
  {
   "cell_type": "code",
   "execution_count": 4,
   "metadata": {},
   "outputs": [],
   "source": [
    "lines = open(filename).read().splitlines() # "
   ]
  },
  {
   "cell_type": "markdown",
   "metadata": {},
   "source": [
    "--- Part One ---"
   ]
  },
  {
   "cell_type": "code",
   "execution_count": 8,
   "metadata": {},
   "outputs": [],
   "source": [
    "import string\n",
    "lower = list(string.ascii_lowercase)\n",
    "upper = list(string.ascii_uppercase)"
   ]
  },
  {
   "cell_type": "code",
   "execution_count": 9,
   "metadata": {},
   "outputs": [],
   "source": [
    "values = range (1,53)\n",
    "keys = lower + upper"
   ]
  },
  {
   "cell_type": "code",
   "execution_count": 16,
   "metadata": {},
   "outputs": [],
   "source": [
    "priority_dict = {}\n",
    "for k,v in zip (keys,values):\n",
    "    priority_dict[k] = v\n",
    "#priority_dict"
   ]
  },
  {
   "cell_type": "code",
   "execution_count": 19,
   "metadata": {},
   "outputs": [],
   "source": [
    "sum_value = 0\n",
    "for line in lines:\n",
    "    firsthalf, secondhalf = set(list(line[:len(line)//2])), set(list(line[len(line)//2:]))\n",
    "    #print (firsthalf, secondhalf)\n",
    "    value = list(set(firsthalf).intersection(secondhalf))[0]\n",
    "    sum_value += (priority_dict[value])\n"
   ]
  },
  {
   "cell_type": "code",
   "execution_count": 20,
   "metadata": {},
   "outputs": [
    {
     "name": "stdout",
     "output_type": "stream",
     "text": [
      "Total Score 7848\n"
     ]
    }
   ],
   "source": [
    "print (f\"Total Score {sum_value}\")"
   ]
  },
  {
   "cell_type": "markdown",
   "metadata": {},
   "source": [
    "--- Part Two ---"
   ]
  },
  {
   "cell_type": "code",
   "execution_count": null,
   "metadata": {},
   "outputs": [],
   "source": [
    "# group of 3\n",
    "# only item type carried by all 3 eleves\n",
    "# set of 3 lines - one group  but each group can have a different badge item type\n",
    "# find string that appears in each of the three lines\n",
    "# Sum  "
   ]
  },
  {
   "cell_type": "code",
   "execution_count": 28,
   "metadata": {},
   "outputs": [
    {
     "name": "stdout",
     "output_type": "stream",
     "text": [
      "Total Score 2616\n"
     ]
    }
   ],
   "source": [
    "N = 3\n",
    "sum_value2 = 0\n",
    "from itertools import islice\n",
    "with open(filename, 'r') as f:\n",
    "    while True:\n",
    "        next_n_lines = list(islice(f, N))\n",
    "        if not next_n_lines:\n",
    "            break\n",
    "        #print (next_n_lines)\n",
    "        line1, line2, line3 =  set(next_n_lines[0].strip()), set(next_n_lines[1].strip()), set(next_n_lines[2].strip())\n",
    "        value = list(set(line1).intersection(line2).intersection(line3))[0]\n",
    "        #print (value)\n",
    "        sum_value2 += (priority_dict[value])\n",
    "print (f\"Total Score {sum_value2}\")"
   ]
  }
 ],
 "metadata": {
  "kernelspec": {
   "display_name": "Python 3.9.9 64-bit",
   "language": "python",
   "name": "python3"
  },
  "language_info": {
   "codemirror_mode": {
    "name": "ipython",
    "version": 3
   },
   "file_extension": ".py",
   "mimetype": "text/x-python",
   "name": "python",
   "nbconvert_exporter": "python",
   "pygments_lexer": "ipython3",
   "version": "3.9.9"
  },
  "orig_nbformat": 4,
  "vscode": {
   "interpreter": {
    "hash": "b521422d7cdf0b10a1f85460340306323b5d4982662d2bef9b1ccf78c64a2379"
   }
  }
 },
 "nbformat": 4,
 "nbformat_minor": 2
}
