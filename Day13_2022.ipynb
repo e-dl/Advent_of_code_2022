{
 "cells": [
  {
   "cell_type": "markdown",
   "metadata": {},
   "source": [
    "# Advent of Code 2022"
   ]
  },
  {
   "cell_type": "markdown",
   "metadata": {},
   "source": [
    "--- Day 13: Distress Signal ---"
   ]
  },
  {
   "cell_type": "code",
   "execution_count": 40,
   "metadata": {},
   "outputs": [],
   "source": [
    "filename = \"input13.txt\"\n",
    "#filename = \"test.txt\""
   ]
  },
  {
   "cell_type": "code",
   "execution_count": 41,
   "metadata": {},
   "outputs": [],
   "source": [
    "lines = open(filename).read().splitlines()"
   ]
  },
  {
   "cell_type": "markdown",
   "metadata": {},
   "source": [
    "--- Part One ---"
   ]
  },
  {
   "cell_type": "code",
   "execution_count": 42,
   "metadata": {},
   "outputs": [],
   "source": [
    "# Distress signal\n",
    "# decoded out of order\n",
    "# need to reorder the list \n",
    "# pairs of packets separate by a blank line\n",
    "# how many pair of packets are in the right order\n",
    "#  [1,1,3,1,1]\n",
    "#  [1,1,5,1,1]\n",
    "\n",
    "#  [[1],[2,3,4]]\n",
    "#  [[1],4]\n",
    "\n",
    "# integers, each list start with [, ends with ] and contains 0 or more comma separated values\n",
    "# compare two values, left (first) and right (second)  \n",
    "# - both values are integers : lower first - if left is lower than right then is good order \n",
    "# - both values are lists, compare element by element until find a different one (left smaller than right)- if the left list runs of elements first,\n",
    "# inputs are in the right order. same lenght - read next\n",
    "# - if 1 value only is an integer, convert that in a list with same 1 value and retry the comparison\n",
    "# sum the indeces of the pairs in the right order"
   ]
  },
  {
   "cell_type": "code",
   "execution_count": 43,
   "metadata": {},
   "outputs": [],
   "source": [
    "from json import loads"
   ]
  },
  {
   "cell_type": "code",
   "execution_count": 44,
   "metadata": {},
   "outputs": [],
   "source": [
    "def cmp_int (left, right):\n",
    "    if left < right:\n",
    "        return True\n",
    "    elif left > right:\n",
    "        return False\n",
    "    else: \n",
    "        return None "
   ]
  },
  {
   "cell_type": "code",
   "execution_count": 45,
   "metadata": {},
   "outputs": [],
   "source": [
    "def cmp_list (left, right):\n",
    "    length = min (len(left),len(right))\n",
    "    result = None\n",
    "    i = 0\n",
    "    while (i < length) & (result == None):\n",
    "        l = left [i]\n",
    "        r = right [i]\n",
    "        if l == [] :\n",
    "            result = True\n",
    "        elif r == []:\n",
    "            result = False    \n",
    "        if isinstance(l, int) and isinstance(r, list):\n",
    "            result = cmp_list([l],r)\n",
    "        elif isinstance(l, list) and isinstance(r, int):\n",
    "            result = cmp_list(l,[r])\n",
    "        elif isinstance(l, list) and isinstance(r, list):\n",
    "            result = cmp_list(l,r)\n",
    "        elif isinstance(l, int) and isinstance(r, int):\n",
    "            result = cmp_int(l, r) \n",
    "        i = i + 1\n",
    "    if result == None:\n",
    "        if len(left) > len (right):\n",
    "            result = False\n",
    "        elif len(left) < len (right): \n",
    "            result = True\n",
    "        else: result = None \n",
    "\n",
    "    return result"
   ]
  },
  {
   "cell_type": "code",
   "execution_count": 46,
   "metadata": {},
   "outputs": [],
   "source": [
    "def comparision(left,right):\n",
    "    result = None\n",
    "    while result == None:\n",
    "        if isinstance(left, int) and isinstance(right, list):\n",
    "            result = cmp_list([left],right)\n",
    "        elif isinstance(left, list) and isinstance(right, int):\n",
    "            result = cmp_list(left,[right])\n",
    "        elif isinstance(left, list) and isinstance(right, list):\n",
    "            result = cmp_list(left,right)\n",
    "        elif isinstance(left, int) and isinstance(right, int):\n",
    "            result = cmp_int(left, right)   \n",
    "\n",
    "    return result"
   ]
  },
  {
   "cell_type": "code",
   "execution_count": 47,
   "metadata": {},
   "outputs": [],
   "source": [
    "list_right_order = [] \n",
    "result = None\n",
    "for line_index in range(0,len(lines),3):\n",
    "    left =  loads(''.join(lines[line_index]))\n",
    "    right =  loads(''.join(lines[line_index+1]))\n",
    "\n",
    "    result = comparision(left,right)   \n",
    "    \n",
    "    if result==True:\n",
    "        list_right_order.append(((line_index/3)+1))\n",
    "    result = None\n"
   ]
  },
  {
   "cell_type": "code",
   "execution_count": 48,
   "metadata": {},
   "outputs": [
    {
     "name": "stdout",
     "output_type": "stream",
     "text": [
      "The sum of these indices is  6086.0.\n"
     ]
    }
   ],
   "source": [
    "print (f'The sum of these indices is  {sum (list_right_order)}.') "
   ]
  },
  {
   "cell_type": "markdown",
   "metadata": {},
   "source": [
    "--- Part Two ---"
   ]
  },
  {
   "cell_type": "code",
   "execution_count": 49,
   "metadata": {},
   "outputs": [],
   "source": [
    "# two additional divider packets\n",
    "# organize all packets in the right order\n",
    "# find the index of the divider packets"
   ]
  },
  {
   "cell_type": "code",
   "execution_count": 50,
   "metadata": {},
   "outputs": [],
   "source": [
    "pack = ['[[6]]','[[2]]']\n",
    "for elem in pack:\n",
    "    lines.append (elem)\n",
    "\n",
    "new_lines = [s for s in lines if s.strip()]\n"
   ]
  },
  {
   "cell_type": "code",
   "execution_count": 51,
   "metadata": {},
   "outputs": [],
   "source": [
    "list_right_order = [] \n",
    "left = loads(''.join(new_lines[0]))\n",
    "\n",
    "for line_index in range(1,len(new_lines)):\n",
    "    right =  loads(''.join(new_lines[line_index]))\n",
    "    result = comparision(left,right)\n",
    "\n",
    "    \n",
    "    if result==True:     \n",
    "        list_right_order.append(left)\n",
    "        left = right.copy()\n",
    "    else:\n",
    "        tmp = list_right_order.copy()\n",
    "        larger = []\n",
    "        for elem in list_right_order[::-1]:\n",
    "            result = comparision (right, elem)\n",
    "            if (result == True) & (tmp!=[]): \n",
    "                tmp.pop()\n",
    "                larger.append(elem)\n",
    "            else:\n",
    "                break\n",
    "        list_right_order = tmp + [right] + larger[::-1]\n",
    "\n",
    "list_right_order.append(left)   "
   ]
  },
  {
   "cell_type": "code",
   "execution_count": 52,
   "metadata": {},
   "outputs": [
    {
     "name": "stdout",
     "output_type": "stream",
     "text": [
      "The decoder key for the distress signal is 27930\n"
     ]
    }
   ],
   "source": [
    "index = 1\n",
    "for i, elem in enumerate(list_right_order):\n",
    "    if str(elem) in pack:\n",
    "        index= index * (i+1) \n",
    "print (f\"The decoder key for the distress signal is {index}\")  "
   ]
  }
 ],
 "metadata": {
  "kernelspec": {
   "display_name": "Python 3.9.13 64-bit (microsoft store)",
   "language": "python",
   "name": "python3"
  },
  "language_info": {
   "codemirror_mode": {
    "name": "ipython",
    "version": 3
   },
   "file_extension": ".py",
   "mimetype": "text/x-python",
   "name": "python",
   "nbconvert_exporter": "python",
   "pygments_lexer": "ipython3",
   "version": "3.9.13 (tags/v3.9.13:6de2ca5, May 17 2022, 16:36:42) [MSC v.1929 64 bit (AMD64)]"
  },
  "orig_nbformat": 4,
  "vscode": {
   "interpreter": {
    "hash": "b485be553124f1940ea372ab7d55f0c305eeb57194aadcbdb061ad83357e26c0"
   }
  }
 },
 "nbformat": 4,
 "nbformat_minor": 2
}
