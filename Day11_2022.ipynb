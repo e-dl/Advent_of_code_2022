{
 "cells": [
  {
   "cell_type": "markdown",
   "metadata": {},
   "source": [
    "# Advent of Code 2022"
   ]
  },
  {
   "cell_type": "markdown",
   "metadata": {},
   "source": [
    "--- Day 11: Monkey in the Middle ---"
   ]
  },
  {
   "cell_type": "code",
   "execution_count": 172,
   "metadata": {},
   "outputs": [],
   "source": [
    "filename = \"input11.txt\"\n",
    "#filename = \"test.txt\""
   ]
  },
  {
   "cell_type": "code",
   "execution_count": 173,
   "metadata": {},
   "outputs": [],
   "source": [
    "lines = open(filename).read().splitlines()"
   ]
  },
  {
   "cell_type": "code",
   "execution_count": 6,
   "metadata": {},
   "outputs": [],
   "source": [
    "import re\n",
    "import math"
   ]
  },
  {
   "cell_type": "code",
   "execution_count": 7,
   "metadata": {},
   "outputs": [],
   "source": [
    "p = re.compile(r'\\d+')"
   ]
  },
  {
   "cell_type": "markdown",
   "metadata": {},
   "source": [
    "--- Part One ---"
   ]
  },
  {
   "cell_type": "code",
   "execution_count": 6,
   "metadata": {},
   "outputs": [],
   "source": [
    "# monkeys operate as much you worry for an item \n",
    "# starting item = worry level for the holding element\n",
    "# operation = how worry changes when the monkey inspect the element\n",
    "# test = shows as the monkey uses uses your worry level to decide where to throw an item\n",
    "# worry needs to be divided by 3 and rounded to the nearest integer\n",
    "# the monkey is throwing all the elements it holds, one at the time and in the listed order\n",
    "# monkey 0 starts, then 1 etc.\n",
    "# when a monkey throw an item, it goes at the end of the other monkey's list\n",
    "#\n",
    "# if a monkey is holding no items at the starts of its turn , then the turn ends\n",
    "# find the two most active monkeys"
   ]
  },
  {
   "cell_type": "code",
   "execution_count": 132,
   "metadata": {},
   "outputs": [],
   "source": [
    "class Monkey:\n",
    "    def __init__(\n",
    "                    self, name = 0, objects = [], new_value = 0, \n",
    "                    test = 23, true = 0, false = 0):\n",
    "        self.name = name\n",
    "        self.objects = objects\n",
    "        self.test = test\n",
    "        self.true = true\n",
    "        self.false = false\n",
    "        self.new_value = new_value\n",
    "\n",
    "    def operation (self, item):\n",
    "        if self.new_value[0] == \"old\":\n",
    "            a = int(item)\n",
    "        else: a = int (self.new_value[0])    \n",
    "        if self.new_value[2] == \"old\":\n",
    "            b = int(item)\n",
    "        else: b = int (self.new_value[2]) \n",
    "        if self.new_value[1] == \"+\":\n",
    "            after_operation = a + b \n",
    "        else: after_operation = a*b\n",
    "        after_operation = math.floor(after_operation/3)\n",
    "        return after_operation\n",
    "\n",
    "    def test_func(self, item):\n",
    "        after_operation = self.operation (item)\n",
    "        if after_operation%self.test==0:\n",
    "            return (self.true,after_operation)\n",
    "        else: return (self.false,after_operation)\n"
   ]
  },
  {
   "cell_type": "code",
   "execution_count": 137,
   "metadata": {},
   "outputs": [],
   "source": [
    "list_of_monkeys = []\n",
    "for line in range(7,len(lines)+7,7):\n",
    "    #print (lines[line-7:line])\n",
    "    m = Monkey()\n",
    "    m.name = p.findall(lines[line-7])[0]\n",
    "    m.objects = p.findall(lines[line-6])\n",
    "    m.new_value = lines[line-5].split(' ')[5::]\n",
    "    m.test = int(p.findall(lines[line-4])[0])\n",
    "    m.true = p.findall(lines[line-3])[0]\n",
    "    m.false = p.findall(lines[line-2])[0]\n",
    "    list_of_monkeys.append(m)"
   ]
  },
  {
   "cell_type": "code",
   "execution_count": 135,
   "metadata": {},
   "outputs": [],
   "source": [
    "inspections = [0]*len (list_of_monkeys)\n",
    "for rounds in range (0,20):\n",
    "    for mon in list_of_monkeys:\n",
    "        for ite in mon.objects.copy():\n",
    "            inspections [int(mon.name)] = inspections [int(mon.name)] +1\n",
    "            (new_mon, new_value) = mon.test_func(ite)\n",
    "            list_of_monkeys[int(mon.name)].objects.pop(0)\n",
    "            list_of_monkeys[int(new_mon)].objects.append(new_value)"
   ]
  },
  {
   "cell_type": "code",
   "execution_count": 14,
   "metadata": {},
   "outputs": [
    {
     "data": {
      "text/plain": [
       "54036"
      ]
     },
     "execution_count": 14,
     "metadata": {},
     "output_type": "execute_result"
    }
   ],
   "source": [
    "(sorted(inspections)[-1])* (sorted(inspections)[-2])\n"
   ]
  },
  {
   "cell_type": "markdown",
   "metadata": {},
   "source": [
    "--- Part Two ---"
   ]
  },
  {
   "cell_type": "code",
   "execution_count": 15,
   "metadata": {},
   "outputs": [],
   "source": [
    "# 10000 rounds\n",
    "# no division by 3\n",
    "# Modular properties : https://brilliant.org/wiki/modular-arithmetic/"
   ]
  },
  {
   "cell_type": "code",
   "execution_count": 169,
   "metadata": {},
   "outputs": [],
   "source": [
    "class Monkey:\n",
    "    prime_numbers = [2, 3, 5, 7, 11, 13, 17, 19, 23, 29]\n",
    "    def __init__(\n",
    "                    self, name = 0, objects = [], new_value = 0, \n",
    "                    test = 23, true = 0, false = 0):\n",
    "        self.name = name\n",
    "        self.objects = objects\n",
    "        self.test = test\n",
    "        self.true = true\n",
    "        self.false = false\n",
    "        self.new_value = new_value\n",
    "\n",
    "\n",
    "    def new_operation (self,dict_item):\n",
    "        a = dict_item.copy()\n",
    "        after_operation = {key: 0 for key in self.prime_numbers}\n",
    "        if self.new_value.count(\"old\") > 1:\n",
    "            b_dict = a.copy()\n",
    "        else:\n",
    "            b_dict = self.mod_dict(self.new_value[2]) \n",
    "        \n",
    "        if self.new_value[1] == \"+\":\n",
    "            for key, val in b_dict.items():\n",
    "                after_operation[key] = (a[key] + val)%key    \n",
    "        else:\n",
    "            for key, val in b_dict.items():\n",
    "                after_operation[key] = (a[key] * val)%key\n",
    "        return after_operation\n",
    "    \n",
    "\n",
    "    def mod_dict(self,value):\n",
    "        new_dict = {key: 0 for key in self.prime_numbers}\n",
    "        n = int(value)\n",
    "        for i in self.prime_numbers:\n",
    "            new_dict[i] = n%i\n",
    "        return new_dict\n",
    "\n",
    "    def new_test_func(self, dict_item):\n",
    "        after_operation = self.new_operation (dict_item)\n",
    "        if after_operation[self.test]==0:\n",
    "            return (self.true,after_operation)\n",
    "        else: return (self.false,after_operation)    \n",
    "\n",
    "\n",
    "class Dec_item:\n",
    "    prime_numbers = [2, 3, 5, 7, 11, 13, 17, 19, 23, 29]\n",
    "    def __init__(self, name = 0, initial_order = 0 ):\n",
    "        self.initial_order = initial_order\n",
    "        self.name = name\n",
    "        self.decompos_dict = {key: 0 for key in self.prime_numbers}\n",
    "        \n",
    "    def decompose_name (self):\n",
    "        n = int(self.name)\n",
    "        for i in self.prime_numbers:\n",
    "            self.decompos_dict [i] = n%i\n",
    "        return self.decompos_dict"
   ]
  },
  {
   "cell_type": "code",
   "execution_count": 174,
   "metadata": {},
   "outputs": [],
   "source": [
    "def get_class_lists(filename):\n",
    "    \n",
    "    lines = open(filename).read().splitlines()\n",
    "\n",
    "    p = re.compile(r'\\d+')\n",
    "\n",
    "    list_of_monkeys = []\n",
    "    list_of_items = []\n",
    "    order = 0\n",
    "    for line in range(7,len(lines)+7,7):\n",
    "        m = Monkey()\n",
    "        m.name = p.findall(lines[line-7])[0]\n",
    "        m.objects = p.findall(lines[line-6])\n",
    "        m.new_value = lines[line-5].split(' ')[5::]\n",
    "        m.test = int(p.findall(lines[line-4])[0])\n",
    "        m.true = p.findall(lines[line-3])[0]\n",
    "        m.false = p.findall(lines[line-2])[0]\n",
    "        list_of_monkeys.append(m)\n",
    "        m_tmp = m.objects.copy()\n",
    "        m.objects = []\n",
    "        for ob in m_tmp: \n",
    "            new_item = Dec_item()\n",
    "            new_item.name = ob\n",
    "            m.objects.append(order)\n",
    "            new_item.initial_order = order\n",
    "            order = order + 1\n",
    "            new_item.decompos_dict = new_item.decompose_name()\n",
    "            list_of_items.append(new_item)\n",
    "    return   (list_of_monkeys, list_of_items)\n",
    "\n",
    "list_of_monkeys, list_of_items = get_class_lists(filename)"
   ]
  },
  {
   "cell_type": "code",
   "execution_count": 175,
   "metadata": {},
   "outputs": [
    {
     "name": "stdout",
     "output_type": "stream",
     "text": [
      "13237873355\n"
     ]
    }
   ],
   "source": [
    "inspections = [0]*len (list_of_monkeys)\n",
    "for rounds in range (0,10000):\n",
    "    for mon in list_of_monkeys:\n",
    "        for ite in mon.objects.copy():\n",
    "            inspections [int(mon.name)] = inspections [int(mon.name)] + 1\n",
    "            (new_mon, new_value) = mon.new_test_func(list_of_items[ite].decompos_dict)\n",
    "            list_of_monkeys[int(mon.name)].objects.pop(0)\n",
    "            list_of_items[ite].decompos_dict = new_value\n",
    "            list_of_monkeys[int(new_mon)].objects.append(ite)\n",
    "\n",
    "total_inspections = (sorted(inspections)[-1])* (sorted(inspections)[-2])\n",
    "print (total_inspections)"
   ]
  }
 ],
 "metadata": {
  "kernelspec": {
   "display_name": "Python 3.9.13 64-bit (microsoft store)",
   "language": "python",
   "name": "python3"
  },
  "language_info": {
   "codemirror_mode": {
    "name": "ipython",
    "version": 3
   },
   "file_extension": ".py",
   "mimetype": "text/x-python",
   "name": "python",
   "nbconvert_exporter": "python",
   "pygments_lexer": "ipython3",
   "version": "3.9.13"
  },
  "orig_nbformat": 4,
  "vscode": {
   "interpreter": {
    "hash": "b485be553124f1940ea372ab7d55f0c305eeb57194aadcbdb061ad83357e26c0"
   }
  }
 },
 "nbformat": 4,
 "nbformat_minor": 2
}
