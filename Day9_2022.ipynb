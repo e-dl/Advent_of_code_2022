{
 "cells": [
  {
   "cell_type": "markdown",
   "metadata": {},
   "source": [
    "# Advent of Code 2022"
   ]
  },
  {
   "cell_type": "markdown",
   "metadata": {},
   "source": [
    "--- Day 9: Rope Bridge ---"
   ]
  },
  {
   "cell_type": "code",
   "execution_count": 130,
   "metadata": {},
   "outputs": [],
   "source": [
    "filename = \"input9.txt\""
   ]
  },
  {
   "cell_type": "code",
   "execution_count": 131,
   "metadata": {},
   "outputs": [],
   "source": [
    "lines = open(filename).read().splitlines()"
   ]
  },
  {
   "cell_type": "code",
   "execution_count": null,
   "metadata": {},
   "outputs": [],
   "source": [
    "lines"
   ]
  },
  {
   "cell_type": "markdown",
   "metadata": {},
   "source": [
    "--- Part One ---"
   ]
  },
  {
   "cell_type": "code",
   "execution_count": null,
   "metadata": {},
   "outputs": [],
   "source": [
    "# a rope with a knot at each end; these k mark the head and the tail of the rope\n",
    "# head moves far enough away from the tail, the tail is pulled toward the head\n",
    "# model the positions of the k on a two-dimensional grid\n",
    "# from series of motions for the head, determine how the tail will move\n",
    "# rope is quite short\n",
    "# HT need to be adjacent (ok diagonal) or overlapping\n",
    "# how the H moves\n",
    "# R 4\n",
    "# U 4\n",
    "# L 3\n",
    "# D 1\n",
    "# R 4\n",
    "# D 1\n",
    "# L 5\n",
    "# R 2\n",
    "\n",
    "# count up all the positions that the tail visited at least once"
   ]
  },
  {
   "cell_type": "code",
   "execution_count": 121,
   "metadata": {},
   "outputs": [],
   "source": [
    "## Solution A ##\n",
    "\n",
    "pos_H = [(0,0)]\n",
    "pos_T = [(0,0)]\n",
    "for line in lines:\n",
    "    direction,distance  = line.split(' ')\n",
    "    for d in range(int(distance)):\n",
    "        if direction == 'L':\n",
    "            new_pos_H = (pos_H[-1][0], pos_H[-1][1]-1)\n",
    "        \n",
    "        elif direction =='R':\n",
    "            new_pos_H = (pos_H[-1][0],pos_H[-1][1]+1)\n",
    "   \n",
    "        elif direction == 'U':\n",
    "            new_pos_H = (pos_H[-1][0]-1,pos_H[-1][1])\n",
    "    \n",
    "        else: #direction down\n",
    "            new_pos_H = (pos_H[-1][0]+1,pos_H[-1][1])\n",
    "        pos_H.append(new_pos_H)\n",
    "\n",
    "        if pos_H[-1][0] == pos_T[-1][0]:\n",
    "            if pos_H[-1][1] + 1 >= pos_T[-1][1] >= pos_H[-1][1]-1:\n",
    "                pos_T.append(pos_T[-1])\n",
    "            else: \n",
    "                if pos_H[-1][1] > pos_T[-1][1]:\n",
    "                        new_pos_T =  (pos_T[-1][0],pos_T[-1][1]+1)\n",
    "                        pos_T.append(new_pos_T)\n",
    "                else: \n",
    "                        new_pos_T = (pos_T[-1][0],pos_T[-1][1]-1)\n",
    "                        pos_T.append(new_pos_T)\n",
    "\n",
    "        elif pos_H[-1][1] == pos_T[-1][1]:\n",
    "            if pos_H[-1][0] + 1 >= pos_T[-1][0] >= pos_H[-1][0] -1:\n",
    "                pos_T.append(pos_T[-1])\n",
    "            else:\n",
    "                if pos_H[-1][0] > pos_T[-1][0]:\n",
    "                        new_pos_T = (pos_T[-1][0]+1 ,pos_T[-1][1])\n",
    "                        pos_T.append(new_pos_T)\n",
    "                else: \n",
    "                        new_pos_T = (pos_T[-1][0]-1 ,pos_T[-1][1])\n",
    "                        pos_T.append(new_pos_T)\n",
    "        else:\n",
    "            if pos_H[-1][0] + 1 >= pos_T[-1][0] >= pos_H[-1][0] - 1:\n",
    "                if pos_H[-1][1] + 1 >= pos_T[-1][1] >= pos_H[-1][1]-1:\n",
    "                    pos_T.append(pos_T[-1])\n",
    "                else:\n",
    "                    if pos_H[-1][1] > pos_T[-1][1]:\n",
    "                        new_pos_T = (pos_T[-1][0],pos_T[-1][1]+1)\n",
    "                    else: \n",
    "                        new_pos_T = (pos_T[-1][0],pos_T[-1][1]-1)\n",
    "                    if pos_H[-1][0] > pos_T[-1][0]:\n",
    "                        new_pos_T = (pos_T[-1][0]+1 ,new_pos_T[1])\n",
    "                    else: \n",
    "                        new_pos_T = (pos_T[-1][0]-1 ,new_pos_T[1])\n",
    "\n",
    "                    pos_T.append(new_pos_T) \n",
    "            else:\n",
    "                if pos_H[-1][1] > pos_T[-1][1]:\n",
    "                    new_pos_T = (pos_T[-1][0],pos_T[-1][1]+1)\n",
    "                else: \n",
    "                    new_pos_T = (pos_T[-1][0],pos_T[-1][1]-1)\n",
    "\n",
    "                if pos_H[-1][0] > pos_T[-1][0]:\n",
    "                    new_pos_T = (pos_T[-1][0]+1 ,new_pos_T[1])\n",
    "                else: \n",
    "                    new_pos_T = (pos_T[-1][0]-1 ,new_pos_T[1])\n",
    "\n",
    "                pos_T.append(new_pos_T) "
   ]
  },
  {
   "cell_type": "code",
   "execution_count": 133,
   "metadata": {},
   "outputs": [],
   "source": [
    "## Solution B ##\n",
    "pos_H = [(0,0)]\n",
    "pos_T = [(0,0)]\n",
    "dir = {'L':(0,-1),'R':(0,1),'U':(-1,0), 'D':(1,0)}\n",
    "\n",
    "\n",
    "for line in lines:\n",
    "    direction, distance  = line.split(' ')\n",
    "    for d in range(int(distance)):\n",
    "        pos_H.append(tuple(sum(tup) for tup in zip(pos_H[-1], dir[direction])))\n",
    "\n",
    "        delta =   [pos_H[-1][i] - pos_T[-1][i] for i in (0,1)]\n",
    "\n",
    "        if abs(max(delta, key = abs))> 1:\n",
    "            sum_val = [0,0]\n",
    "            for index, value in enumerate(delta):     \n",
    "                if abs(value) >= 1 :\n",
    "                    sum_val[index] = value // abs(value)\n",
    "            pos_T.append(tuple(sum(tup) for tup in zip(pos_T[-1],tuple(sum_val))))\n",
    "        else: pos_T.append(pos_T[-1])"
   ]
  },
  {
   "cell_type": "code",
   "execution_count": 135,
   "metadata": {},
   "outputs": [
    {
     "name": "stdout",
     "output_type": "stream",
     "text": [
      "The tail of the rope visisted 5883 positions at least once\n"
     ]
    }
   ],
   "source": [
    "print (f'The tail of the rope visisted {len(set(pos_T))} positions at least once')"
   ]
  },
  {
   "cell_type": "markdown",
   "metadata": {},
   "source": [
    "--- Part Two ---"
   ]
  },
  {
   "cell_type": "code",
   "execution_count": null,
   "metadata": {},
   "outputs": [],
   "source": [
    "# Rather than two knots, you now must simulate a rope consisting of ten knots."
   ]
  },
  {
   "cell_type": "code",
   "execution_count": 157,
   "metadata": {},
   "outputs": [],
   "source": [
    "Knots = [(0,0)] * 10\n",
    "dir = {'L':(0,-1),'R':(0,1),'U':(-1,0), 'D':(1,0)}\n",
    "visited = set(Knots)\n",
    "\n",
    "for line in lines:\n",
    "    direction, distance  = line.split(' ')\n",
    "    for d in range(int(distance)):\n",
    "        Knots[0]= tuple(sum(tup) for tup in zip(Knots[0], dir[direction]))\n",
    "        for k in range (1,len(Knots)):\n",
    "            delta =   [Knots[k-1][i] - Knots[k][i] for i in (0,1)]\n",
    "\n",
    "            if abs(max(delta, key = abs))> 1:\n",
    "                sum_val = [0,0]\n",
    "                for index, value in enumerate(delta):     \n",
    "                    if abs(value) >= 1 :\n",
    "                        sum_val[index] = value // abs(value)\n",
    "                Knots[k]= (tuple(sum(tup) for tup in zip(Knots[k],tuple(sum_val))))\n",
    "        visited.add(Knots[-1])"
   ]
  },
  {
   "cell_type": "code",
   "execution_count": 158,
   "metadata": {},
   "outputs": [
    {
     "name": "stdout",
     "output_type": "stream",
     "text": [
      "The tail of the rope visisted 2367 positions at least once\n"
     ]
    }
   ],
   "source": [
    "print (f'The tail of the rope visisted {len(visited)} positions at least once')\n"
   ]
  }
 ],
 "metadata": {
  "kernelspec": {
   "display_name": "Python 3.9.13 64-bit (microsoft store)",
   "language": "python",
   "name": "python3"
  },
  "language_info": {
   "codemirror_mode": {
    "name": "ipython",
    "version": 3
   },
   "file_extension": ".py",
   "mimetype": "text/x-python",
   "name": "python",
   "nbconvert_exporter": "python",
   "pygments_lexer": "ipython3",
   "version": "3.9.13"
  },
  "orig_nbformat": 4,
  "vscode": {
   "interpreter": {
    "hash": "b485be553124f1940ea372ab7d55f0c305eeb57194aadcbdb061ad83357e26c0"
   }
  }
 },
 "nbformat": 4,
 "nbformat_minor": 2
}
